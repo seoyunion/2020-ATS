{
 "cells": [
  {
   "cell_type": "markdown",
   "metadata": {},
   "source": [
    "### Donation Data Simulation"
   ]
  },
  {
   "cell_type": "code",
   "execution_count": 1,
   "metadata": {},
   "outputs": [],
   "source": [
    "import numpy as np\n",
    "import pandas as pd"
   ]
  },
  {
   "cell_type": "code",
   "execution_count": 2,
   "metadata": {},
   "outputs": [],
   "source": [
    "NUM_EMAILS_SENT_WEEKLY = 3"
   ]
  },
  {
   "cell_type": "code",
   "execution_count": 3,
   "metadata": {},
   "outputs": [],
   "source": [
    "years = ['2014', '2015', '2016', '2017', '2018']\n",
    "memberStatus = ['bronze', 'silver', 'gold', 'inactive'] #등급"
   ]
  },
  {
   "cell_type": "code",
   "execution_count": 4,
   "metadata": {},
   "outputs": [],
   "source": [
    "memberYears = np.random.choice(years, 50,\n",
    "                               p=[0.1,0.1,0.15,0.3,0.35])  # 50 datapoints\n",
    "#샘플링. 50개 만들 것, p: 각 년도별 확률(입력한 확률들로 choice됨)\n",
    "memberStats = np.random.choice(memberStatus, 50,\n",
    "                                p=[0.5,0.3,0.1,0.1])"
   ]
  },
  {
   "cell_type": "code",
   "execution_count": 5,
   "metadata": {},
   "outputs": [
    {
     "data": {
      "text/plain": [
       "array(['2015', '2015', '2015', '2017', '2018', '2016', '2015', '2018',\n",
       "       '2018', '2017'], dtype='<U4')"
      ]
     },
     "execution_count": 5,
     "metadata": {},
     "output_type": "execute_result"
    }
   ],
   "source": [
    "memberYears[:10]"
   ]
  },
  {
   "cell_type": "code",
   "execution_count": 6,
   "metadata": {},
   "outputs": [
    {
     "data": {
      "text/plain": [
       "array(['bronze', 'bronze', 'bronze', 'bronze', 'silver', 'gold', 'silver',\n",
       "       'gold', 'bronze', 'bronze'], dtype='<U8')"
      ]
     },
     "execution_count": 6,
     "metadata": {},
     "output_type": "execute_result"
    }
   ],
   "source": [
    "memberStats[:10]"
   ]
  },
  {
   "cell_type": "code",
   "execution_count": 7,
   "metadata": {},
   "outputs": [],
   "source": [
    "#각 열을 합쳐서 yearJoined 데이터프레임 생성\n",
    "yearJoined = pd.DataFrame({'yearJoined':memberYears,\n",
    "                           'memberStats': memberStats})"
   ]
  },
  {
   "cell_type": "code",
   "execution_count": 8,
   "metadata": {},
   "outputs": [
    {
     "data": {
      "text/html": [
       "<div>\n",
       "<style scoped>\n",
       "    .dataframe tbody tr th:only-of-type {\n",
       "        vertical-align: middle;\n",
       "    }\n",
       "\n",
       "    .dataframe tbody tr th {\n",
       "        vertical-align: top;\n",
       "    }\n",
       "\n",
       "    .dataframe thead th {\n",
       "        text-align: right;\n",
       "    }\n",
       "</style>\n",
       "<table border=\"1\" class=\"dataframe\">\n",
       "  <thead>\n",
       "    <tr style=\"text-align: right;\">\n",
       "      <th></th>\n",
       "      <th>yearJoined</th>\n",
       "      <th>memberStats</th>\n",
       "    </tr>\n",
       "  </thead>\n",
       "  <tbody>\n",
       "    <tr>\n",
       "      <th>0</th>\n",
       "      <td>2015</td>\n",
       "      <td>bronze</td>\n",
       "    </tr>\n",
       "    <tr>\n",
       "      <th>1</th>\n",
       "      <td>2015</td>\n",
       "      <td>bronze</td>\n",
       "    </tr>\n",
       "    <tr>\n",
       "      <th>2</th>\n",
       "      <td>2015</td>\n",
       "      <td>bronze</td>\n",
       "    </tr>\n",
       "    <tr>\n",
       "      <th>3</th>\n",
       "      <td>2017</td>\n",
       "      <td>bronze</td>\n",
       "    </tr>\n",
       "    <tr>\n",
       "      <th>4</th>\n",
       "      <td>2018</td>\n",
       "      <td>silver</td>\n",
       "    </tr>\n",
       "  </tbody>\n",
       "</table>\n",
       "</div>"
      ],
      "text/plain": [
       "  yearJoined memberStats\n",
       "0       2015      bronze\n",
       "1       2015      bronze\n",
       "2       2015      bronze\n",
       "3       2017      bronze\n",
       "4       2018      silver"
      ]
     },
     "execution_count": 8,
     "metadata": {},
     "output_type": "execute_result"
    }
   ],
   "source": [
    "yearJoined.head()"
   ]
  },
  {
   "cell_type": "markdown",
   "metadata": {},
   "source": [
    "##### 이메일 오픈 횟수와 기부 금액 간의 상관관계를 알아보고자 했었다..\n",
    "### 이메일을 열어보는 행위에 대한 함수 생성"
   ]
  },
  {
   "cell_type": "code",
   "execution_count": 9,
   "metadata": {},
   "outputs": [],
   "source": [
    "def never_opens(period_rng):\n",
    "    return []"
   ]
  },
  {
   "cell_type": "code",
   "execution_count": 10,
   "metadata": {},
   "outputs": [],
   "source": [
    "def constant_open_rate(period_rng):\n",
    "    n, p = NUM_EMAILS_SENT_WEEKLY, np.random.uniform(0,1)\n",
    "    num_opened = np.random.binomial(n, p, len(period_rng))\n",
    "    return num_opened"
   ]
  },
  {
   "cell_type": "code",
   "execution_count": 11,
   "metadata": {},
   "outputs": [],
   "source": [
    "def increasing_open_rate(period_rng):\n",
    "    return open_rate_with_factor_change(period_rng,\n",
    "                                        np.random.uniform(1.01, 1.30))  # increasing"
   ]
  },
  {
   "cell_type": "code",
   "execution_count": 12,
   "metadata": {},
   "outputs": [],
   "source": [
    "def decreasing_open_rate(period_rng):\n",
    "    return open_rate_with_factor_change(period_rng,\n",
    "                                        np.random.uniform(0.5, 0.99)) # decreading"
   ]
  },
  {
   "cell_type": "code",
   "execution_count": 13,
   "metadata": {},
   "outputs": [],
   "source": [
    "#이메일 열어본 횟수 반환해주는 함수\n",
    "def open_rate_with_factor_change(period_rng, fac):\n",
    "    if len(period_rng) < 1:\n",
    "        return [] #가입한 지 일주일이 안 됐으면 빈 리스트 리턴\n",
    "\n",
    "    times = np.random.randint(0, len(period_rng), #len(period_rng): 몇주동안 가입해있었는지 나옴. 그 중에서 10% 샘플링\n",
    "                               int(0.1 * len(period_rng)))  # 10% times: 무조건 0으로 세팅해주기 위한 10퍼센트 인덱스 추출\n",
    "    #times: period_rng 중 10퍼센트는 무조건 열지 않는다고 세팅.\n",
    "    num_opened = np.zeros(len(period_rng)) #모두 0으로 채워줌(array 생성): shape=(9,3)해주면 행열9*3인 matirix 생성도 가능\n",
    "    for prd in range(0, len(period_rng), 2): #0~주 개수까지 2개씩 채워넣겠다 #step=2\n",
    "        n, p = NUM_EMAILS_SENT_WEEKLY, np.random.uniform(0, 1) #n:고정된 일주일에 보내는 메일수, p:0~1사이 랜덤 확률\n",
    "        try:\n",
    "            num_opened[prd:(prd+2)] = np.random.binomial(n, p, 2)  ## number of trials, probability of each trial, number of testment\n",
    "            #두번마다 같은 확률로 testiment를 해서 이메일을 얼마나 여는지 넣어줌(step = 2)\n",
    "            p = max(min(1, p*fac), 0) #p값 업데이트\n",
    "            #1보다 큰 확률/0보다 작은 확률 생성 방지\n",
    "        except:\n",
    "            num_opened[prd] = np.random.binomial(n, p, 1)  # data set has odd numbers of dtpoints\n",
    "            #에러가 생기면 그냥 랜덤하게 하나 넣어줘라(week 개수가 홀수일 때)\n",
    "    for t in range(len(times)): #times 인덱스\n",
    "        num_opened[times[t]] = 0 #10퍼센트는 무조건 0으로 채워줌\n",
    "    return num_opened"
   ]
  },
  {
   "cell_type": "code",
   "execution_count": 14,
   "metadata": {},
   "outputs": [],
   "source": [
    "def random_weekly_time_delta():\n",
    "    days_of_week = [d for d in range(7)]\n",
    "    hours_of_day = [h for h in range(11, 23)]\n",
    "    minute_of_hour = [m for m in range(60)]\n",
    "    second_of_minute = [s for s in range(60)]\n",
    "    return pd.Timedelta(str(np.random.choice(days_of_week))+\"days\") + \\\n",
    "           pd.Timedelta(str(np.random.choice(hours_of_day)) +'hours') +\\\n",
    "           pd.Timedelta(str(np.random.choice(minute_of_hour))+'minutes')+ \\\n",
    "           pd.Timedelta(str(np.random.choice(second_of_minute))+'seconds')"
   ]
  },
  {
   "cell_type": "code",
   "execution_count": 15,
   "metadata": {},
   "outputs": [],
   "source": [
    "def produce_donations(period_rng, member_behavior, num_emails,\n",
    "                      use_id, member_join_year):\n",
    "    donation_amounts = np.array([0, 25, 50, 75, 100, 250, 500,\n",
    "                                 1000, 1500, 2000]) #정해진 기부금액\n",
    "    member_has = np.random.choice(donation_amounts) #기부 금액에서 멤버가 얼마를 가지고 있는지\n",
    "\n",
    "    email_fraction = num_emails / (NUM_EMAILS_SENT_WEEKLY* len(period_rng)) # opened rate \n",
    "    member_gives = member_has * email_fraction #기부 금액 = 멤버가 가진 돈*이메일 오픈 비율\n",
    "    member_gives_idx = np.where(member_gives >= donation_amounts)[0][-1] #반환된 기부금액이 기부가능한 금액들 중 어느 금액보다 크거나 같은지 그 인덱스 값 반환. \n",
    "    # 튜플로 반환된 인덱스 중 마지막 것 뽑음 -> 기부 가능한 금액 알 수 있음.ex) 250달러와 500달러 사이\n",
    "    num_times_gave = np.random.poisson(2)*(2018-member_join_year)  # poisson distribution -- how many times member gives\n",
    "    times = np.random.randint(0, len(period_rng), num_times_gave)  # which week member give donation\n",
    "    \n",
    "    #기부데이터 프레임 만들어줌\n",
    "    dons = pd.DataFrame({'member':[],\n",
    "                         'amount':[],\n",
    "                         'timestamp':[]})\n",
    "    for n in range(num_times_gave): #기부 횟수 넣어줌\n",
    "        donation = donation_amounts[member_gives_idx + np.random.binomial(1, .3)] #예상 기부 금액: 30%확률로 ~를 기부할 것이다.라는 것\n",
    "        ts = str(period_rng[times[n]] + random_weekly_time_delta())  # ramdom day in the week(일주일 간 어느 날짜에 기부했는지, 기부 날짜 랜덤 반환)\n",
    "        dons = dons.append(pd.DataFrame({\n",
    "            'member':[use_id],\n",
    "            'amount':[donation],\n",
    "            'timestamp':[ts] }))\n",
    "\n",
    "    if dons.shape[0] >0:\n",
    "        dons = dons[dons.amount != 0] #shape==0이면 기부하지 않았다는 뜻\n",
    "        #따라서 0이 아닌 것들만 걸러내서 return\n",
    "    return dons"
   ]
  },
  {
   "cell_type": "markdown",
   "metadata": {},
   "source": [
    "### 생성 코드 실행"
   ]
  },
  {
   "cell_type": "code",
   "execution_count": 16,
   "metadata": {},
   "outputs": [
    {
     "name": "stdout",
     "output_type": "stream",
     "text": [
      "yearJoined       2015\n",
      "memberStats    bronze\n",
      "Name: 0, dtype: object\n"
     ]
    }
   ],
   "source": [
    "## run it\n",
    "# 이메일 열어본 횟수와 기부 금액의 상관관계를 보고자 함\n",
    "# 이메일에 관한 동작들 정의\n",
    "behaviors = [never_opens, constant_open_rate, increasing_open_rate, decreasing_open_rate]\n",
    "\n",
    "# numpy.random.choice(a, size=None, replace=True, p=None) #sampling\n",
    "member_behaviors = np.random.choice(behaviors, size=50, p=[0.2, 0.5, 0.1, 0.2]) #확률 지정, 50개 샘플링\n",
    "rng = pd.date_range('2015-02-04', '2018-06-01', freq='W') # 주 단위, 날짜 범위 지정\n",
    "# 2015년 2월 4일에 설립된 기부단체, 현재는 2018-06-01\n",
    "\n",
    "emails = pd.DataFrame({'member':[],\n",
    "                       'week':[],\n",
    "                       'emailsOpened':[]})\n",
    "\n",
    "donations = pd.DataFrame({'member':[],\n",
    "                          'amount':[],\n",
    "                          'timestamp':[]})\n",
    "\n",
    "print(yearJoined.iloc[0])"
   ]
  },
  {
   "cell_type": "code",
   "execution_count": 17,
   "metadata": {},
   "outputs": [],
   "source": [
    "for idx in range(yearJoined.shape[0]): #yearJoined.shape()->(50,2): \"멤버 수\", 컬럼 수 \n",
    "\n",
    "    # time stamp + time delta\n",
    "    join_date = pd.Timestamp(yearJoined.iloc[idx].yearJoined) + \\\n",
    "                pd.Timedelta(str(np.random.randint(0, 365)) + 'days') # randomly add some days\n",
    "                #타임데이터 생성\n",
    "    join_date = min(join_date, pd.Timestamp('2018-06-01')) # max_range is 2018-06-02\n",
    "    # 현재 최신 날짜보다 클 경우를 방지. 가능한 최대 날짜 설정\n",
    "    member_rng = rng[rng >join_date]\n",
    "    # 가입한 날짜 이후 주부터 현재 날짜 이전 주까지의 타임스탬프 반환\n",
    "\n",
    "    if len(member_rng) <1:\n",
    "        continue\n",
    "\n",
    "    info = member_behaviors[idx](member_rng)  # generate member opened email numbers\n",
    "\n",
    "    if len(info) == len(member_rng): #개수 동일하게 생성했으나 한번 더 체크\n",
    "        emails = emails.append(pd.DataFrame({\n",
    "            'member': [idx] *len(info),\n",
    "            'week': [str(r) for r in member_rng],\n",
    "            'emailsOpened': info #이메일 열어본 횟수\n",
    "        }))\n",
    "        #donation 데이터 생성\n",
    "        donations = donations.append(\n",
    "            produce_donations(member_rng, member_behaviors[idx],\n",
    "                              sum(info), idx, join_date.year) #멤버레인지,멤버행동,열어본이메일개수합,멤버인덱스,가입년도\n",
    "        )"
   ]
  },
  {
   "cell_type": "code",
   "execution_count": 18,
   "metadata": {},
   "outputs": [],
   "source": [
    "## get rid of zero donations and zero emails\n",
    "emails = emails[emails.emailsOpened != 0] #이메일 오픈 횟수 0인 것 제거\n",
    "yearJoined.index.name = 'user'"
   ]
  },
  {
   "cell_type": "code",
   "execution_count": 19,
   "metadata": {},
   "outputs": [],
   "source": [
    "yearJoined.to_csv('data/year_joined.csv', index=False)\n",
    "donations.to_csv('data/donations.csv',   index=False)\n",
    "emails.to_csv('data/emails.csv',  index=False)"
   ]
  },
  {
   "cell_type": "markdown",
   "metadata": {},
   "source": [
    "### test"
   ]
  },
  {
   "cell_type": "code",
   "execution_count": 19,
   "metadata": {},
   "outputs": [
    {
     "name": "stdout",
     "output_type": "stream",
     "text": [
      "   member  amount            timestamp\n",
      "1     0.0    25.0  2017-10-21 17:52:12\n",
      "2     0.0    25.0  2017-09-10 12:08:41\n",
      "3     4.0    25.0  2016-02-29 12:42:52\n"
     ]
    }
   ],
   "source": [
    "import pandas as pd\n",
    "import matplotlib.pyplot as plt\n",
    "df = pd.read_csv('./data/donations.csv')\n",
    "print(df.iloc[1:4])"
   ]
  },
  {
   "cell_type": "code",
   "execution_count": 21,
   "metadata": {},
   "outputs": [
    {
     "name": "stdout",
     "output_type": "stream",
     "text": [
      "                     member  amount            timestamp\n",
      "timestamp                                               \n",
      "2017-10-21 17:52:12     0.0    25.0  2017-10-21 17:52:12\n",
      "2017-09-10 12:08:41     0.0    25.0  2017-09-10 12:08:41\n",
      "2016-02-29 12:42:52     4.0    25.0  2016-02-29 12:42:52\n"
     ]
    }
   ],
   "source": [
    "df.set_index(pd.to_datetime(df.timestamp), inplace=True)\n",
    "print(df.iloc[1:4])"
   ]
  },
  {
   "cell_type": "code",
   "execution_count": 22,
   "metadata": {},
   "outputs": [
    {
     "name": "stdout",
     "output_type": "stream",
     "text": [
      "                     member  amount            timestamp\n",
      "timestamp                                               \n",
      "2015-08-27 14:03:16    39.0   250.0  2015-08-27 14:03:16\n",
      "2015-10-21 14:48:33    11.0    25.0  2015-10-21 14:48:33\n",
      "2015-11-02 20:41:42    41.0   100.0  2015-11-02 20:41:42\n"
     ]
    }
   ],
   "source": [
    "df.sort_index(inplace=True)\n",
    "print(df.iloc[1:4])"
   ]
  },
  {
   "cell_type": "code",
   "execution_count": 23,
   "metadata": {},
   "outputs": [
    {
     "data": {
      "image/png": "[encoded data removed]",
      "text/plain": [
       "<Figure size 432x288 with 1 Axes>"
      ]
     },
     "metadata": {
      "needs_background": "light"
     },
     "output_type": "display_data"
    }
   ],
   "source": [
    "df.groupby(pd.Grouper(freq='M')).amount.sum().plot()\n",
    "plt.show()"
   ]
  }
 ],
 "metadata": {
  "kernelspec": {
   "display_name": "Python 3",
   "language": "python",
   "name": "python3"
  },
  "language_info": {
   "codemirror_mode": {
    "name": "ipython",
    "version": 3
   },
   "file_extension": ".py",
   "mimetype": "text/x-python",
   "name": "python",
   "nbconvert_exporter": "python",
   "pygments_lexer": "ipython3",
   "version": "3.7.2"
  }
 },
 "nbformat": 4,
 "nbformat_minor": 2
}
