{
 "cells": [
  {
   "cell_type": "code",
   "execution_count": 8,
   "metadata": {},
   "outputs": [],
   "source": [
    "import sqlite3\n",
    "conn = sqlite3.connect('test.db') #DB 생성: 하나의 DB에는 같은 이름을 가진 테이블을 하나만 만들 수 있다\n",
    "cur = conn.cursor() #connect\n",
    "#conn.execute('CREATE TABLE customer(name,category,region)')#테이블 생성 / 열 이름 지정"
   ]
  },
  {
   "cell_type": "code",
   "execution_count": 9,
   "metadata": {},
   "outputs": [
    {
     "name": "stdout",
     "output_type": "stream",
     "text": [
      "DATA\n",
      "('홍길동', 1, '서울')\n",
      "('홍길동', 2, '서울')\n",
      "('홍길동', 3, '서울')\n"
     ]
    }
   ],
   "source": [
    "sql_qry = \"insert into customer(name,category,region) values (?, ?, ?)\" #어떤 데이터를 삽입할 것인지 만들고, 집어넣어줌\n",
    "cur.execute(sql_qry, ('홍길동', 1, '서울')) #데이터 삽입\n",
    "cur.execute(sql_qry, ('홍길동', 2, '서울'))\n",
    "cur.execute(sql_qry, ('홍길동', 3, '서울'))\n",
    "#커서에 따라서 처음부터 하나씩 데이터를 가져옴\n",
    "sql_qry = 'select * from customer'\n",
    "print(\"DATA\")\n",
    "for _ in cur.execute(sql_qry): #반복문으로 데이터 읽어옴\n",
    "\tprint(_)"
   ]
  },
  {
   "cell_type": "code",
   "execution_count": 10,
   "metadata": {},
   "outputs": [],
   "source": [
    "conn.close() #해당 connection를 닫아줌"
   ]
  }
 ],
 "metadata": {
  "kernelspec": {
   "display_name": "Python 3",
   "language": "python",
   "name": "python3"
  },
  "language_info": {
   "codemirror_mode": {
    "name": "ipython",
    "version": 3
   },
   "file_extension": ".py",
   "mimetype": "text/x-python",
   "name": "python",
   "nbconvert_exporter": "python",
   "pygments_lexer": "ipython3",
   "version": "3.7.2"
  }
 },
 "nbformat": 4,
 "nbformat_minor": 2
}
